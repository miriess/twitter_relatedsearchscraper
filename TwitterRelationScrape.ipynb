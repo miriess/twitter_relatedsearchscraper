{
 "cells": [
  {
   "cell_type": "code",
   "execution_count": 277,
   "metadata": {},
   "outputs": [],
   "source": [
    "# %load header.py\n",
    "import numpy as np                # numeric calculations and handling missing values\n",
    "import pandas as pd               # pushing data around\n",
    "# import matplotlib.pyplot as plt   # making nice pictures\n",
    "# import seaborn as sns             # making nicer pictures more easily\n",
    "#import missingno as msno          # nice visualization of missing values\n",
    "import sys\n",
    "import os                         # accessing files in bulk\n",
    "# import re                         # using regular expressions\n",
    "# import statsmodels.api as sm      # statistics...\n",
    "# import fbprophet as prophet       # forecasting\n",
    "# from pylab import rcParams\n",
    "\n",
    "pd.set_option('display.max_columns', 500)    # seeing all columns\n",
    "# sns.set(style=\"darkgrid\")                    # nice grids"
   ]
  },
  {
   "cell_type": "code",
   "execution_count": 353,
   "metadata": {},
   "outputs": [],
   "source": [
    "import requests\n",
    "from bs4 import BeautifulSoup\n",
    "import random\n",
    "from time import sleep\n",
    "import csv"
   ]
  },
  {
   "cell_type": "code",
   "execution_count": 365,
   "metadata": {},
   "outputs": [],
   "source": [
    "class related_search_hub:\n",
    "    def __init__(self, start_search, depth_to_go=1, wait_time=random.uniform(.25,.75)):\n",
    "        self.initial_search = start_search\n",
    "        self.standard_wait = wait_time\n",
    "        self.initial_query = '/hashtag/' + start_search[1:] if start_search[0] == '#' else '/search?q=' + start_search\n",
    "        self.depth_to_go = depth_to_go\n",
    "        self.level = 1\n",
    "        self.error_list = []\n",
    "\n",
    "    def get_results(self, query=False, search=False):\n",
    "        query = query if query else self.initial_query\n",
    "        search = search if search else self.initial_search\n",
    "        print(\"Scraping https://twitter.com\" + query + \".\")\n",
    "        results, new_queries = self.get_related_searches(query)\n",
    "        if results:\n",
    "            print(f\"\"\"Level {self.level} search for {search} yielded the related searches {results}.\"\"\")\n",
    "            result_dict = dict(zip(\n",
    "                ['type', 'level', 'search', 'result_1', 'result_2', 'result_3', 'result_4', 'result_5'],\n",
    "                [('result', 'query'), self.level, (search, query)] + list(zip(results, new_queries)))\n",
    "                              )\n",
    "            if self.level == 1:\n",
    "                self.results_df = pd.DataFrame(result_dict)\n",
    "            else:\n",
    "                self.results_df = pd.concat([self.results_df, pd.DataFrame(result_dict)], ignore_index=True, sort=False)\n",
    "        else:\n",
    "            print(f\"\"\"Level {self.level} search for {search} yielded an error.\"\"\")\n",
    "\n",
    "    def go_deeper(self):\n",
    "        result_matrix = self.results_df.loc[(self.results_df.level==self.level) & (self.results_df.type=='result'),'result_1':]\n",
    "        query_matrix = self.results_df.loc[(self.results_df.level==self.level) & (self.results_df.type=='query'),'result_1':]\n",
    "        self.level += 1\n",
    "        self.depth_to_go -= 1\n",
    "        rows = result_matrix.shape[0]\n",
    "        earlier_searches_1 = self.results_df.loc[self.results_df.type=='result', 'search'].values\n",
    "        earlier_searches_2 = []\n",
    "        print('----- going deeper -----')\n",
    "        for i in range(rows):\n",
    "            R = result_matrix.iloc[i,:].dropna()\n",
    "            Q = query_matrix.iloc[i,:].dropna()\n",
    "            columns = R.shape[0]\n",
    "            for j in range(columns):\n",
    "                if (R[j] in earlier_searches_1) or (R[j] in earlier_searches_2):\n",
    "                    pass\n",
    "                else:\n",
    "                    self.get_results(query=Q[j], search=R[j])\n",
    "                    earlier_searches_2.append(R[j])\n",
    "                    sleep(self.standard_wait)\n",
    "        print(f'----- finished level {self.level} -----')\n",
    "\n",
    "    def get_related_searches(self, query, waittime=random.uniform(.25,.75)):\n",
    "        r = requests.get('http://www.twitter.com' + query)\n",
    "        similar_results_bucket = BeautifulSoup(r.text, 'html.parser').find_all('ul', class_=\"AdaptiveRelatedSearches-items\")\n",
    "        if (similar_results_bucket and (similar_results_bucket[0].find_all('a', class_='js-nav'))):\n",
    "            results = similar_results_bucket[0].find_all('a', class_='js-nav')\n",
    "            names = [x.decode_contents().strip().replace('<strong>','').replace('</strong>','') for x in results]\n",
    "            links = [x.attrs['href'][:-9] for x in results]\n",
    "            return (names,links)\n",
    "        else:\n",
    "            print(f'----- error loading http://www.twitter.com{query} -----')\n",
    "            self.error_list.append(query)\n",
    "            return([], [])\n",
    "\n",
    "    \n",
    "    def results_as_csv(self, only_results=False):\n",
    "        search_string = self.initial_search.replace(\" \", \"_\")\n",
    "        if not only_results:\n",
    "            print('----- saving full csv -----')\n",
    "            self.results_df.to_csv(f'results_{search_string}_depth{self.level}.csv', index=False)\n",
    "        else:\n",
    "            print('----- saving results only csv -----')\n",
    "            self.results_df.loc[self.results_df.type=='result', 'level':].to_csv(f'results_only_{search_string}_depth{self.level}.csv', index=False)\n",
    "            \n",
    "    def export_gephi_csv(self):\n",
    "        search_string = self.initial_search.replace(\" \", \"_\")\n",
    "        self.results_df.loc[self.results_df.type=='result','search':].to_csv(\n",
    "            f'gephi_{search_string}_depth{self.level}.csv',\n",
    "            index=False,\n",
    "            header=False,\n",
    "            sep=\";\",\n",
    "            quoting=csv.QUOTE_ALL\n",
    "            )\n",
    "    \n",
    "    def full_descent(self, with_output=False, only_results_output=False, with_gephi=False):\n",
    "        self.get_results()\n",
    "        self.depth_to_go -= 1\n",
    "        while self.depth_to_go > 0:\n",
    "            self.go_deeper()\n",
    "        if self.error_list:\n",
    "            print('----- there were loading errors -----')\n",
    "            for x in self.error_list:\n",
    "                  print(f'----- error while loading https://www.twitter.com/{x}  ----- ')\n",
    "        else: pass\n",
    "        if with_output:\n",
    "            self.results_as_csv(only_results=only_results_output)\n",
    "        if with_gephi:\n",
    "            self.export_gephi_csv()\n",
    "        else: pass\n",
    "        print('----- alle done -----')"
   ]
  },
  {
   "cell_type": "code",
   "execution_count": 366,
   "metadata": {},
   "outputs": [],
   "source": [
    "test_search = related_search_hub('#rezoeffekt', depth_to_go=2)"
   ]
  },
  {
   "cell_type": "code",
   "execution_count": 367,
   "metadata": {},
   "outputs": [
    {
     "name": "stdout",
     "output_type": "stream",
     "text": [
      "Scraping https://twitter.com/hashtag/rezoeffekt.\n",
      "Level 1 search for #rezoeffekt yielded the related searches ['#annegeht', '#artikel5', '#volkspartei', '#r2g', '#niemehrcducsu'].\n",
      "----- going deeper -----\n",
      "Scraping https://twitter.com/hashtag/annegeht.\n",
      "Level 2 search for #annegeht yielded the related searches ['asymmetrische wahlkampfführung', '#akkrücktritt', '#artikel5', '#niemehrcdu', 'akkgate'].\n",
      "Scraping https://twitter.com/hashtag/artikel5.\n",
      "Level 2 search for #artikel5 yielded the related searches ['#annegeht', '@cdu', '#habeck', '#r2g', '@akk'].\n",
      "Scraping https://twitter.com/hashtag/volkspartei.\n",
      "Level 2 search for #volkspartei yielded the related searches ['#r2g', 'medien', '#niemehrcducsu', 'regierungsarbeit', '#niemalsafd'].\n",
      "Scraping https://twitter.com/hashtag/r2g.\n",
      "Level 2 search for #r2g yielded the related searches ['#niemehrcducsu', '#artikel5', '#annegeht', '#niemalsafd', 'annegate'].\n",
      "Scraping https://twitter.com/hashtag/niemehrcducsu.\n",
      "Level 2 search for #niemehrcducsu yielded the related searches ['#r2g', '#artikel5', '@cdu', '#annegeht', '#niemalsafd'].\n",
      "----- finished level 2 -----\n",
      "----- alle done -----\n"
     ]
    }
   ],
   "source": [
    "test_search.full_descent()"
   ]
  },
  {
   "cell_type": "code",
   "execution_count": 351,
   "metadata": {},
   "outputs": [
    {
     "name": "stdout",
     "output_type": "stream",
     "text": [
      "----- saving results only csv -----\n"
     ]
    }
   ],
   "source": [
    "test_search.results_as_csv(only_results=True)"
   ]
  },
  {
   "cell_type": "code",
   "execution_count": 368,
   "metadata": {},
   "outputs": [],
   "source": [
    "test_search.export_gephi_csv()"
   ]
  },
  {
   "cell_type": "code",
   "execution_count": null,
   "metadata": {},
   "outputs": [],
   "source": []
  }
 ],
 "metadata": {
  "kernelspec": {
   "display_name": "Python 3",
   "language": "python",
   "name": "python3"
  },
  "language_info": {
   "codemirror_mode": {
    "name": "ipython",
    "version": 3
   },
   "file_extension": ".py",
   "mimetype": "text/x-python",
   "name": "python",
   "nbconvert_exporter": "python",
   "pygments_lexer": "ipython3",
   "version": "3.7.1"
  }
 },
 "nbformat": 4,
 "nbformat_minor": 2
}
